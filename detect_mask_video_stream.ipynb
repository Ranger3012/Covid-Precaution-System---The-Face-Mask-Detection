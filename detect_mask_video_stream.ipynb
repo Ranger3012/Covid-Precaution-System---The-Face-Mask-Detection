{
 "cells": [
  {
   "cell_type": "code",
   "execution_count": 1,
   "id": "afe91741-b2d2-4302-b693-5495fdfa8cb1",
   "metadata": {},
   "outputs": [],
   "source": [
    "# import packages\n",
    "from tensorflow.keras.applications.mobilenet_v2 import preprocess_input\n",
    "from tensorflow.keras.preprocessing.image import img_to_array\n",
    "from tensorflow.keras.models import load_model\n",
    "import numpy as np\n",
    "from imutils.video import VideoStream\n",
    "import imutils\n",
    "import time\n",
    "import cv2\n",
    "import os"
   ]
  },
  {
   "cell_type": "code",
   "execution_count": 2,
   "id": "f1c0f031-9ada-4fce-b6e8-dc4e453711ec",
   "metadata": {},
   "outputs": [],
   "source": [
    "def detect_and_predict_mask(frame, faceNet, maskNet):\n",
    "\t\n",
    "\t(h, w) = frame.shape[:2]\n",
    "\tblob = cv2.dnn.blobFromImage(frame, 1.0, (224, 224),\n",
    "\t\t(104.0, 177.0, 123.0))\n",
    "\n",
    "\tfaceNet.setInput(blob)\n",
    "\tdetections = faceNet.forward()\n",
    "\tprint(detections.shape)\n",
    "\n",
    "\tfaces = []\n",
    "\tlocs = []\n",
    "\tpreds = []\n",
    "\n",
    "\t# loop over the detections\n",
    "\tfor i in range(0, detections.shape[2]):\n",
    "\t\tconfidence = detections[0, 0, i, 2]\n",
    "\n",
    "\t\tif confidence > 0.5:\n",
    "\t\t\tbox = detections[0, 0, i, 3:7] * np.array([w, h, w, h])\n",
    "\t\t\t(startX, startY, endX, endY) = box.astype(\"int\")\n",
    "\n",
    "\t\t\t(startX, startY) = (max(0, startX), max(0, startY))\n",
    "\t\t\t(endX, endY) = (min(w - 1, endX), min(h - 1, endY))\n",
    "\n",
    "\t\t\tface = frame[startY:endY, startX:endX]\n",
    "\t\t\tface = cv2.cvtColor(face, cv2.COLOR_BGR2RGB)\n",
    "\t\t\tface = cv2.resize(face, (224, 224))\n",
    "\t\t\tface = img_to_array(face)\n",
    "\t\t\tface = preprocess_input(face)\n",
    "\n",
    "\t\t\tfaces.append(face)\n",
    "\t\t\tlocs.append((startX, startY, endX, endY))\n",
    "\n",
    "\t# only make a predictions if at least one face was detected\n",
    "\tif len(faces) > 0:\n",
    "\t\tfaces = np.array(faces, dtype=\"float32\")\n",
    "\t\tpreds = maskNet.predict(faces, batch_size=32)\n",
    "\n",
    "\treturn (locs, preds)"
   ]
  },
  {
   "cell_type": "code",
   "execution_count": 3,
   "id": "740c6903-a9c5-4a6b-8557-857cfe1cef0e",
   "metadata": {},
   "outputs": [],
   "source": [
    "# load serialized face detector model from disk\n",
    "prototxtPath = r\"face_detector\\deploy.prototxt\"\n",
    "weightsPath = r\"face_detector\\res10_300x300_ssd_iter_140000.caffemodel\"\n",
    "faceNet = cv2.dnn.readNet(prototxtPath, weightsPath)"
   ]
  },
  {
   "cell_type": "code",
   "execution_count": 4,
   "id": "add80fe3-4626-4dcb-8d77-f7cebf7d4437",
   "metadata": {},
   "outputs": [
    {
     "name": "stderr",
     "output_type": "stream",
     "text": [
      "WARNING:absl:Compiled the loaded model, but the compiled metrics have yet to be built. `model.compile_metrics` will be empty until you train or evaluate the model.\n"
     ]
    }
   ],
   "source": [
    "# load model from disk\n",
    "maskNet = load_model(\"mask_detector.h5\")"
   ]
  },
  {
   "cell_type": "code",
   "execution_count": 5,
   "id": "be9be6b3-0259-4cfe-8b89-418c2c3f3ac9",
   "metadata": {},
   "outputs": [
    {
     "name": "stdout",
     "output_type": "stream",
     "text": [
      "[INFO] starting video stream...\n"
     ]
    }
   ],
   "source": [
    "print(\"[INFO] starting video stream...\")\n",
    "vs = VideoStream(src=0).start()\n"
   ]
  },
  {
   "cell_type": "code",
   "execution_count": null,
   "id": "863d2be3-3250-477c-8df0-a50b6f606f41",
   "metadata": {},
   "outputs": [],
   "source": [
    "from IPython.display import display, Image, clear_output\n",
    "\n",
    "# Initialize the video stream\n",
    "vs = VideoStream(src=0).start()  # Use 'src=0' for the webcam or the path to the video file\n",
    "\n",
    "# Allow some time for the camera to warm up\n",
    "time.sleep(2.0)\n",
    "\n",
    "# Loop over the frames from the video stream\n",
    "while True:\n",
    "    # Read the frame from the video stream\n",
    "    frame = vs.read()\n",
    "\n",
    "    # Check if frame was read successfully\n",
    "    if frame is None:\n",
    "        print(\"[ERROR] Could not read frame from the video stream.\")\n",
    "        break\n",
    "\n",
    "    # Resize the frame to have a width of 400 pixels\n",
    "    frame = imutils.resize(frame, width=400)\n",
    "\n",
    "    # Perform mask detection on the frame\n",
    "    (locs, preds) = detect_and_predict_mask(frame, faceNet, maskNet)\n",
    "\n",
    "    # Loop over the detected face locations and their corresponding predictions\n",
    "    for (box, pred) in zip(locs, preds):\n",
    "        # Unpack the bounding box and predictions\n",
    "        (startX, startY, endX, endY) = box\n",
    "        (mask, withoutMask) = pred\n",
    "\n",
    "        # Determine the label and color to draw the bounding box and text\n",
    "        label = \"Mask\" if mask > withoutMask else \"No Mask\"\n",
    "        color = (0, 255, 0) if label == \"Mask\" else (0, 0, 255)\n",
    "\n",
    "        # Include the probability in the label\n",
    "        label = \"{}: {:.2f}%\".format(label, max(mask, withoutMask) * 100)\n",
    "\n",
    "        # Display the label and bounding box rectangle on the frame\n",
    "        cv2.putText(frame, label, (startX, startY - 10),\n",
    "                    cv2.FONT_HERSHEY_SIMPLEX, 0.45, color, 2)\n",
    "        cv2.rectangle(frame, (startX, startY), (endX, endY), color, 2)\n",
    "\n",
    "    # Convert the frame to an image format that Jupyter can display\n",
    "    _, jpeg = cv2.imencode('.jpg', frame)\n",
    "    display(Image(data=jpeg.tobytes()))\n",
    "\n",
    "    # Wait for a short period before showing the next frame\n",
    "    time.sleep(0.05)\n",
    "    \n",
    "    # Clear the output to display the next frame\n",
    "    clear_output(wait=True)\n",
    "\n",
    "# Cleanup: Not necessary for Jupyter Notebooks since kernel restarts will clear the stream\n",
    "if isinstance(vs, cv2.VideoCapture):\n",
    "    vs.release()\n",
    "else:\n",
    "    vs.stop()"
   ]
  }
 ],
 "metadata": {
  "kernelspec": {
   "display_name": "Python 3 (ipykernel)",
   "language": "python",
   "name": "python3"
  },
  "language_info": {
   "codemirror_mode": {
    "name": "ipython",
    "version": 3
   },
   "file_extension": ".py",
   "mimetype": "text/x-python",
   "name": "python",
   "nbconvert_exporter": "python",
   "pygments_lexer": "ipython3",
   "version": "3.9.19"
  }
 },
 "nbformat": 4,
 "nbformat_minor": 5
}
